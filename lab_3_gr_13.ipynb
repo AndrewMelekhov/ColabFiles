{
  "nbformat": 4,
  "nbformat_minor": 0,
  "metadata": {
    "colab": {
      "provenance": [],
      "collapsed_sections": [
        "tqNqoS0ZsysP"
      ],
      "authorship_tag": "ABX9TyNhwbz1VPrpGj0pVSXiVozI",
      "include_colab_link": true
    },
    "kernelspec": {
      "name": "python3",
      "display_name": "Python 3"
    },
    "language_info": {
      "name": "python"
    }
  },
  "cells": [
    {
      "cell_type": "markdown",
      "metadata": {
        "id": "view-in-github",
        "colab_type": "text"
      },
      "source": [
        "<a href=\"https://colab.research.google.com/github/AndrewMelekhov/ColabFiles/blob/main/lab_3_gr_13.ipynb\" target=\"_parent\"><img src=\"https://colab.research.google.com/assets/colab-badge.svg\" alt=\"Open In Colab\"/></a>"
      ]
    },
    {
      "cell_type": "markdown",
      "source": [
        "# Структуры данных"
      ],
      "metadata": {
        "id": "R_6jEE03suiA"
      }
    },
    {
      "cell_type": "markdown",
      "source": [
        "## Строки (str)"
      ],
      "metadata": {
        "id": "tqNqoS0ZsysP"
      }
    },
    {
      "cell_type": "code",
      "execution_count": null,
      "metadata": {
        "colab": {
          "base_uri": "https://localhost:8080/"
        },
        "id": "hHYX27-csq9e",
        "outputId": "3cb26b21-1b0b-47db-9217-8e8160e00581"
      },
      "outputs": [
        {
          "output_type": "stream",
          "name": "stdout",
          "text": [
            "abc\n",
            "ABC\n",
            "1\n",
            "    2\n",
            "3\n",
            "ada\n",
            "adasd\n",
            "fsdfs \n",
            "123\\n \\t 456\n"
          ]
        }
      ],
      "source": [
        "s1 = 'abc'\n",
        "s2 = \"ABC\"\n",
        "s3 = '''1\n",
        "    2\n",
        "3'''\n",
        "s4 = \"\"\"ada\n",
        "adasd\n",
        "fsdfs \"\"\"\n",
        "s5 = r'123\\n \\t 456' # сырая строка (для набора пути к файлу, для адреса в Internet)\n",
        "print(s1)\n",
        "print(s2)\n",
        "print(s3)\n",
        "print(s4)\n",
        "print(s5)"
      ]
    },
    {
      "cell_type": "code",
      "source": [
        "# экранированные последовательности \\\n",
        "# В Python 3 в строках str используется кодировка Unicode (65536 символов)\n",
        "s = \"\\n ' \\\"\\t \\'  ABC abc АБВ абв 4697(* \\300 \\400 \\N{Ampersand} & \\u4e08\"\n",
        "print(s)"
      ],
      "metadata": {
        "colab": {
          "base_uri": "https://localhost:8080/"
        },
        "id": "PtbYqkXAuA-g",
        "outputId": "7043d1a0-f06b-492f-965a-a6419ee60d32"
      },
      "execution_count": null,
      "outputs": [
        {
          "output_type": "stream",
          "name": "stdout",
          "text": [
            "\n",
            " ' \"\t '  ABC abc АБВ абв 4697(* À Ā & & 丈\n"
          ]
        }
      ]
    },
    {
      "cell_type": "code",
      "source": [
        "# Функции chr и ord (с символами):\n",
        "print(ord('丈')) # по символу возвращает код\n",
        "print(chr(20000))  \n",
        "print(chr(10000))\n",
        "print(chr(5000))"
      ],
      "metadata": {
        "colab": {
          "base_uri": "https://localhost:8080/"
        },
        "id": "OJ129FU8uFV6",
        "outputId": "5b03d17c-b248-4f14-b161-5942ef36619c"
      },
      "execution_count": null,
      "outputs": [
        {
          "output_type": "stream",
          "name": "stdout",
          "text": [
            "19976\n",
            "丠\n",
            "✐\n",
            "ᎈ\n"
          ]
        }
      ]
    },
    {
      "cell_type": "markdown",
      "source": [
        "### Срезы строк"
      ],
      "metadata": {
        "id": "Mzj455ngwKi3"
      }
    },
    {
      "cell_type": "code",
      "source": [
        "s = 'abcdefgh'\n",
        "print(s[0], s[1], s[-1]) # срез с одним параметром s[индекс]\n",
        "print(len(s))\n",
        "# print(s[9]) - ошибка"
      ],
      "metadata": {
        "colab": {
          "base_uri": "https://localhost:8080/"
        },
        "id": "TV401_CbwK7e",
        "outputId": "8e14e39c-af72-466e-93ca-929583074e0a"
      },
      "execution_count": null,
      "outputs": [
        {
          "output_type": "stream",
          "name": "stdout",
          "text": [
            "a b h\n",
            "8\n"
          ]
        }
      ]
    },
    {
      "cell_type": "code",
      "source": [
        "# s[начало:конец]  # начало <= : < конец\n",
        "print(s[0:3])\n",
        "print(s[-3:-1])  # print(s[len(s)-3:len(s)-1])\n",
        "print(s[:5])\n",
        "print(s[5:])\n",
        "print(s[:])\n",
        "print(s[-100:100])"
      ],
      "metadata": {
        "colab": {
          "base_uri": "https://localhost:8080/"
        },
        "id": "Kx2pw_BXwrR2",
        "outputId": "e7300cff-d6a3-4aba-9ace-d11514009a87"
      },
      "execution_count": null,
      "outputs": [
        {
          "output_type": "stream",
          "name": "stdout",
          "text": [
            "abc\n",
            "fg\n",
            "abcde\n",
            "fgh\n",
            "abcdefgh\n",
            "abcdefgh\n"
          ]
        }
      ]
    },
    {
      "cell_type": "code",
      "source": [
        "# s[начало:конец:шаг]  # начало <= : < конец\n",
        "print(s[0:8:2])\n",
        "print(s[8:0:-2])\n",
        "print(s[::-1])  # переворот строки"
      ],
      "metadata": {
        "colab": {
          "base_uri": "https://localhost:8080/"
        },
        "id": "y606v444xSYu",
        "outputId": "6601fd1c-1fc7-4133-c915-912ad3d69721"
      },
      "execution_count": null,
      "outputs": [
        {
          "output_type": "stream",
          "name": "stdout",
          "text": [
            "aceg\n",
            "hfdb\n",
            "hgfedcba\n"
          ]
        }
      ]
    },
    {
      "cell_type": "code",
      "source": [
        "# Пример\n",
        "s = 'Приветмир'\n",
        "s = s[:6] + ' ' + s[6:] + \"!\"\n",
        "print(s) "
      ],
      "metadata": {
        "colab": {
          "base_uri": "https://localhost:8080/"
        },
        "id": "IRIElQ6Mx3_v",
        "outputId": "4d7c99da-d0d3-4f93-8686-f577c12ecfa2"
      },
      "execution_count": null,
      "outputs": [
        {
          "output_type": "stream",
          "name": "stdout",
          "text": [
            "Привет мир!\n"
          ]
        }
      ]
    },
    {
      "cell_type": "markdown",
      "source": [
        "### Операции"
      ],
      "metadata": {
        "id": "XzxUyFsXhYA4"
      }
    },
    {
      "cell_type": "code",
      "source": [
        "# + * % (форматирование)\n",
        "s = 'abc '\n",
        "print(s + str(123))\n",
        "print(5 * s)\n",
        "print('Число: % 8.3f' % -12.34546)"
      ],
      "metadata": {
        "id": "sIrOAtbPx9jJ",
        "colab": {
          "base_uri": "https://localhost:8080/"
        },
        "outputId": "395af472-46ce-4e81-a908-dadd1a21f247"
      },
      "execution_count": null,
      "outputs": [
        {
          "output_type": "stream",
          "name": "stdout",
          "text": [
            "abc 123\n",
            "abc abc abc abc abc \n",
            "Число:  -12.345\n"
          ]
        }
      ]
    },
    {
      "cell_type": "markdown",
      "source": [
        "### Методы \n",
        "\n",
        "https://docs.python.org/3/library/stdtypes.html#string-methods"
      ],
      "metadata": {
        "id": "Qi4JQ5LviRoo"
      }
    },
    {
      "cell_type": "code",
      "source": [
        "s1 = '12312312'\n",
        "# количество вхождений подстроки\n",
        "print(s1.count('12')) # Способ 1\n",
        "print(str.count(s1, '12')) # Способ 2"
      ],
      "metadata": {
        "colab": {
          "base_uri": "https://localhost:8080/"
        },
        "id": "nPC1nylEhmrb",
        "outputId": "0208f00d-59ca-4ece-e5df-99f09f39973e"
      },
      "execution_count": null,
      "outputs": [
        {
          "output_type": "stream",
          "name": "stdout",
          "text": [
            "3\n",
            "3\n"
          ]
        }
      ]
    },
    {
      "cell_type": "code",
      "source": [
        "s2 = 'abcABCфЦ'\n",
        "print(s2.lower())\n",
        "print(s2.upper())\n",
        "s3 = 'sin(x)'\n",
        "print(s3.center(30,'_'))\n",
        "s4 = ' *_123*__   _'\n",
        "print(s4.strip(' *_'))"
      ],
      "metadata": {
        "colab": {
          "base_uri": "https://localhost:8080/"
        },
        "id": "d95ZTMI_ikED",
        "outputId": "bf63c4ca-a8a3-442e-b989-b70d8e1e98ce"
      },
      "execution_count": null,
      "outputs": [
        {
          "output_type": "stream",
          "name": "stdout",
          "text": [
            "abcabcфц\n",
            "ABCABCФЦ\n",
            "____________sin(x)____________\n",
            "123\n"
          ]
        }
      ]
    },
    {
      "cell_type": "code",
      "source": [
        "# Поиск\n",
        "s1 = '12312312'\n",
        "print(s1.find('312'))\n",
        "print(s1.find('55'))\n",
        "# Замены подстроки, удаление\n",
        "new_s1 = s1.replace('12' , 'AAA')\n",
        "print(new_s1)\n",
        "print(s1.replace('12' , '', 1))"
      ],
      "metadata": {
        "colab": {
          "base_uri": "https://localhost:8080/"
        },
        "id": "XvunJgTdj0JP",
        "outputId": "370f85b2-c0d9-4d3e-836a-16b96bad0019"
      },
      "execution_count": null,
      "outputs": [
        {
          "output_type": "stream",
          "name": "stdout",
          "text": [
            "2\n",
            "-1\n",
            "AAA3AAA3AAA\n",
            "312312\n"
          ]
        }
      ]
    },
    {
      "cell_type": "code",
      "source": [
        "# Разбить строку на несколько по разделителям:\n",
        "s5 = ' asfs  sfgdsf    fdgdf    '\n",
        "print(s5.split())\n",
        "print(s5.split(' '))\n",
        "# Собрать строку из нескольких:\n",
        "L = ['12', '34', '567']\n",
        "print(' - '.join(L))"
      ],
      "metadata": {
        "colab": {
          "base_uri": "https://localhost:8080/"
        },
        "id": "GgPx-NkPki3H",
        "outputId": "7ee32fd3-991b-48be-f473-fb5cfe55d18f"
      },
      "execution_count": null,
      "outputs": [
        {
          "output_type": "stream",
          "name": "stdout",
          "text": [
            "['asfs', 'sfgdsf', 'fdgdf']\n",
            "['', 'asfs', '', 'sfgdsf', '', '', '', 'fdgdf', '', '', '', '']\n",
            "12 - 34 - 567\n"
          ]
        }
      ]
    },
    {
      "cell_type": "markdown",
      "source": [
        "### Форматирование"
      ],
      "metadata": {
        "id": "sbY12O7clqfG"
      }
    },
    {
      "cell_type": "code",
      "source": [
        "print('Число: % 8.3f' % -12.34546)\n",
        "print('Число: {0:>10.3f}'.format(-12.34546))\n",
        "print(f'Число:  {-12.34546:10.3f}')\n",
        "a = 5; n = 10\n",
        "print(f'Число:  {a ** 2:{n}}')"
      ],
      "metadata": {
        "colab": {
          "base_uri": "https://localhost:8080/"
        },
        "id": "p6O2r9VjlGwR",
        "outputId": "d7f90d8b-b686-48f0-84eb-533798906d6c"
      },
      "execution_count": null,
      "outputs": [
        {
          "output_type": "stream",
          "name": "stdout",
          "text": [
            "Число:  -12.345\n",
            "Число:    -12.345\n",
            "Число:     -12.345\n",
            "Число:          25\n"
          ]
        }
      ]
    },
    {
      "cell_type": "markdown",
      "source": [
        "## Кортежи (tuple)"
      ],
      "metadata": {
        "id": "l0sEbWmMmrfm"
      }
    },
    {
      "cell_type": "code",
      "source": [
        "# Последовательность ссылок на объекты (неизменяемый тип), \n",
        "t1 = (1, 2, 3)\n",
        "t2 = 4, 5, 6\n",
        "t3 = () # пустой tuple()\n",
        "t4 = (7, )  # из 1 элемента \n",
        "t5 = (-10, 3.14, 'abc', (5, True) )"
      ],
      "metadata": {
        "id": "NTy6jT1Dmu41"
      },
      "execution_count": null,
      "outputs": []
    },
    {
      "cell_type": "code",
      "source": [
        "type(t5)"
      ],
      "metadata": {
        "colab": {
          "base_uri": "https://localhost:8080/"
        },
        "id": "MMh5KhccmvHF",
        "outputId": "4895f6c1-00c1-4eba-b7de-5878ba8cf5e5"
      },
      "execution_count": null,
      "outputs": [
        {
          "output_type": "execute_result",
          "data": {
            "text/plain": [
              "tuple"
            ]
          },
          "metadata": {},
          "execution_count": 15
        }
      ]
    },
    {
      "cell_type": "code",
      "source": [
        "# есть: is, not is, in, not in, len, срезы, +, *, сравнения: <, > и т.д. \n",
        "# t4[0]  = 10 - не изменяемый\n",
        "t11 = t1[:2] + (4, 5)\n",
        "print(t11)"
      ],
      "metadata": {
        "colab": {
          "base_uri": "https://localhost:8080/"
        },
        "id": "CKiox4JKnnyv",
        "outputId": "50132150-10c8-4233-cf2b-800e6aa91373"
      },
      "execution_count": null,
      "outputs": [
        {
          "output_type": "stream",
          "name": "stdout",
          "text": [
            "(1, 2, 4, 5)\n"
          ]
        }
      ]
    },
    {
      "cell_type": "markdown",
      "source": [
        "### Есть 2 метода"
      ],
      "metadata": {
        "id": "8c8O1B90otO2"
      }
    },
    {
      "cell_type": "code",
      "source": [
        "print(t1.count(1))\n",
        "print(t1.index(1))"
      ],
      "metadata": {
        "colab": {
          "base_uri": "https://localhost:8080/"
        },
        "id": "vXg_8IbzotfO",
        "outputId": "6442c2b7-331b-41bf-c73e-43e4ef4de7b1"
      },
      "execution_count": null,
      "outputs": [
        {
          "output_type": "stream",
          "name": "stdout",
          "text": [
            "1\n",
            "0\n"
          ]
        }
      ]
    },
    {
      "cell_type": "code",
      "source": [
        "# Функции из базового пакета:\n",
        "print(min(t1))\n",
        "print(max(t1))\n",
        "print(sum(t1))\n",
        "t7 = (10, 9, 0)\n",
        "print(all(t7))\n",
        "print(any(t7))"
      ],
      "metadata": {
        "colab": {
          "base_uri": "https://localhost:8080/"
        },
        "id": "GCg6kqyppG09",
        "outputId": "18338167-642e-4245-90bb-bc0f2bf3abf4"
      },
      "execution_count": null,
      "outputs": [
        {
          "output_type": "stream",
          "name": "stdout",
          "text": [
            "1\n",
            "3\n",
            "6\n",
            "False\n",
            "True\n"
          ]
        }
      ]
    },
    {
      "cell_type": "markdown",
      "source": [
        "## Списки (list)"
      ],
      "metadata": {
        "id": "XCWOkm0spmbf"
      }
    },
    {
      "cell_type": "code",
      "source": [
        "# Последовательность ссылок на объекты (изменяемый тип!!!) \n",
        "l1 = [1, 2, 3]\n",
        "l2 = [4, 5, 6]\n",
        "l3 = [] # пустой list()\n",
        "l4 = [7]\n",
        "l5 = [-10, 3.14, 'abc', [5, True] ]\n",
        "l6 = list(t1)"
      ],
      "metadata": {
        "id": "7-P2IKhdpp9v"
      },
      "execution_count": null,
      "outputs": []
    },
    {
      "cell_type": "code",
      "source": [
        "print(type(l6))\n",
        "print(l6)"
      ],
      "metadata": {
        "colab": {
          "base_uri": "https://localhost:8080/"
        },
        "id": "UF6xpaaZqIh9",
        "outputId": "974c3d9f-54d5-48a7-be4b-cba37946a9a8"
      },
      "execution_count": null,
      "outputs": [
        {
          "output_type": "stream",
          "name": "stdout",
          "text": [
            "<class 'list'>\n",
            "[1, 2, 3]\n"
          ]
        }
      ]
    },
    {
      "cell_type": "markdown",
      "source": [
        "### Срезы"
      ],
      "metadata": {
        "id": "IkZus7oJqd92"
      }
    },
    {
      "cell_type": "code",
      "source": [
        "# Все, что было у строк и кортежей работает и у списков.\n",
        "# Можно добавлять, удалять, изменять:\n",
        "l1 = [1, 2, 3]\n",
        "l1[0] = 10 # изменить 1 значение\n",
        "print(l1)\n",
        "# изменить срез: L[что меняем] = [на что меняем]\n",
        "l1[:2] = [55, 66]\n",
        "print(l1)\n",
        "# добавить/вставка срез: L[n:n] = [новый список]\n",
        "l1[3:3] = [-1, -2, -3]\n",
        "print(l1)\n",
        "# удаление среза: L[что удаляем] = []\n",
        "l1[:2] = []\n",
        "print(l1)"
      ],
      "metadata": {
        "colab": {
          "base_uri": "https://localhost:8080/"
        },
        "id": "QMjPMNdUqgDe",
        "outputId": "3028b23c-b54f-49d0-ebec-6450d2143e0f"
      },
      "execution_count": null,
      "outputs": [
        {
          "output_type": "stream",
          "name": "stdout",
          "text": [
            "[10, 2, 3]\n",
            "[55, 66, 3]\n",
            "[55, 66, 3, -1, -2, -3]\n",
            "[3, -1, -2, -3]\n"
          ]
        }
      ]
    },
    {
      "cell_type": "markdown",
      "source": [
        "### Операции"
      ],
      "metadata": {
        "id": "LmC_coxxsKum"
      }
    },
    {
      "cell_type": "code",
      "source": [
        "# есть: is, not is, in, not in, len, срезы, +, *, сравнения: <, >, ==, != <=, >=\n",
        "l7 = [1, 2, 3] \n",
        "l8 = [1, 2, 3]\n",
        "l9 = l7 \n",
        "print(l7 == l8)\n",
        "print(l7 is l8)\n",
        "print(l7 is l9)\n",
        "# Операция del\n",
        "del l7[0]\n",
        "print(l7)"
      ],
      "metadata": {
        "colab": {
          "base_uri": "https://localhost:8080/"
        },
        "id": "DWNnvPSksNNm",
        "outputId": "49300b06-c61b-4619-a8f3-d9a2a083e783"
      },
      "execution_count": null,
      "outputs": [
        {
          "output_type": "stream",
          "name": "stdout",
          "text": [
            "True\n",
            "False\n",
            "True\n",
            "[2, 3]\n"
          ]
        }
      ]
    },
    {
      "cell_type": "markdown",
      "source": [
        "### Методы"
      ],
      "metadata": {
        "id": "E7ogPFG0tZU-"
      }
    },
    {
      "cell_type": "code",
      "source": [
        "l10 = [1, 2, 3, 1, 1] \n",
        "print(l10.count(1))\n",
        "print(l10.index(1))\n",
        "# Добавления append, insert, extend\n",
        "# l10.append? # вызвать  help\n",
        "# help(l10.append) # вызвать  help\n",
        "l10.append(4)\n",
        "print(l10)\n",
        "# Удаление pop, remove\n",
        "x = l10.pop()\n",
        "print(x, l10)"
      ],
      "metadata": {
        "colab": {
          "base_uri": "https://localhost:8080/"
        },
        "id": "rQNjWWwRtbUN",
        "outputId": "69c42d82-6ada-4bbc-da4e-366b834ab37e"
      },
      "execution_count": null,
      "outputs": [
        {
          "output_type": "stream",
          "name": "stdout",
          "text": [
            "3\n",
            "0\n",
            "[1, 2, 3, 1, 1, 4]\n",
            "4 [1, 2, 3, 1, 1]\n"
          ]
        }
      ]
    },
    {
      "cell_type": "code",
      "source": [
        "# сортировка:\n",
        "L1 = [1, 2, -3, -10, 15, 26, -65]\n",
        "L1.sort()\n",
        "print(L1)\n",
        "L1.sort(reverse = True)\n",
        "print(L1)\n",
        "L1.sort(key = abs)\n",
        "print(L1)"
      ],
      "metadata": {
        "colab": {
          "base_uri": "https://localhost:8080/"
        },
        "id": "cEuHQTQpu3OW",
        "outputId": "cb598863-12aa-4a90-f0e5-7468c1cd0de8"
      },
      "execution_count": null,
      "outputs": [
        {
          "output_type": "stream",
          "name": "stdout",
          "text": [
            "[-65, -10, -3, 1, 2, 15, 26]\n",
            "[26, 15, 2, 1, -3, -10, -65]\n",
            "[1, 2, -3, -10, 15, 26, -65]\n"
          ]
        }
      ]
    },
    {
      "cell_type": "markdown",
      "source": [
        "## Множества (set)"
      ],
      "metadata": {
        "id": "reCIi_QNonav"
      }
    },
    {
      "cell_type": "code",
      "source": [
        "s1 = {1, 2, 3, 2, 1}\n",
        "s2 = {2, 3.4, 'abc', True, (2, 3)} # неизменяемые элементы \n",
        "s3 = set() # пустое множество\n",
        "print(s2)\n",
        "print(type(s1))"
      ],
      "metadata": {
        "colab": {
          "base_uri": "https://localhost:8080/"
        },
        "id": "9NzS7RhHon0W",
        "outputId": "63f0a0a1-6710-4197-a3a8-1eecbc0c7534"
      },
      "execution_count": null,
      "outputs": [
        {
          "output_type": "stream",
          "name": "stdout",
          "text": [
            "{True, 2, 3.4, (2, 3), 'abc'}\n",
            "<class 'set'>\n"
          ]
        }
      ]
    },
    {
      "cell_type": "code",
      "source": [
        "# неупорядоченное множество объектов нет срезов s1[1] - нельзя\n",
        "# в цикле for можно пройти все элементы (порядок произвольный)\n",
        "# len, in, not in \n",
        "for i in s1:\n",
        "  print(i)\n",
        "print('len =', len(s2))\n",
        "print(1 in s1)"
      ],
      "metadata": {
        "colab": {
          "base_uri": "https://localhost:8080/"
        },
        "id": "Pvi8R5VspcN_",
        "outputId": "bd08f0e6-46fb-46e1-dd46-69bbd041f044"
      },
      "execution_count": null,
      "outputs": [
        {
          "output_type": "stream",
          "name": "stdout",
          "text": [
            "1\n",
            "2\n",
            "3\n",
            "len = 5\n",
            "True\n"
          ]
        }
      ]
    },
    {
      "cell_type": "code",
      "source": [
        "# сравнения ==, != (равенство множеств)\n",
        "# < <= > >= (сравнение подмножеств и надмножеств)\n",
        "s1 = {3, 2, 1}\n",
        "s2 = {1, 2, 3}\n",
        "print(s1 == s2)\n",
        "print(s1 != s2)\n",
        "print(s1 < s2)"
      ],
      "metadata": {
        "colab": {
          "base_uri": "https://localhost:8080/"
        },
        "id": "PjAqBi_eqrOD",
        "outputId": "75df8ee2-6691-479d-eb4a-f9655e0e5e2d"
      },
      "execution_count": null,
      "outputs": [
        {
          "output_type": "stream",
          "name": "stdout",
          "text": [
            "True\n",
            "False\n",
            "False\n"
          ]
        }
      ]
    },
    {
      "cell_type": "code",
      "source": [
        "# Операции: | объединени, & пересечение, ^ объединение без пересечений, - разность\n",
        "s1 = {3, 2, 1}\n",
        "s2 = {4, 5, 3}\n",
        "print(s1 | s2)\n",
        "print(s1 & s2)\n",
        "print(s1 ^ s2)\n",
        "print(s1 - s2)"
      ],
      "metadata": {
        "colab": {
          "base_uri": "https://localhost:8080/"
        },
        "id": "X6kRKgF0rX7p",
        "outputId": "8d289f1e-66dd-48af-c361-88f5ab8fc7cc"
      },
      "execution_count": null,
      "outputs": [
        {
          "output_type": "stream",
          "name": "stdout",
          "text": [
            "{1, 2, 3, 4, 5}\n",
            "{3}\n",
            "{1, 2, 4, 5}\n",
            "{1, 2}\n"
          ]
        }
      ]
    },
    {
      "cell_type": "code",
      "source": [
        "# методы clear - очистить? copy - копию\n",
        "s1.add(12)\n",
        "print(s1)\n",
        "s1.discard(3)\n",
        "print(s1)\n",
        "s3 = s1.union(s2) # s1, s2 - не меняет, создает новое множество s3 (s1 | s2)\n",
        "print(s3)\n",
        "s1.update(s2) # меняет s1   (s1 = s1 | s2)\n",
        "print(s1)\n",
        "# Проверки\n",
        "print(s1.isdisjoint(s2), s1, s2) # True, если не пересекаются"
      ],
      "metadata": {
        "colab": {
          "base_uri": "https://localhost:8080/"
        },
        "id": "8z5qKtPJs37P",
        "outputId": "9688f18a-4ab3-4cca-8666-3da7197fcf12"
      },
      "execution_count": null,
      "outputs": [
        {
          "output_type": "stream",
          "name": "stdout",
          "text": [
            "{1, 2, 3, 12}\n",
            "{1, 2, 12}\n",
            "{1, 2, 3, 4, 5, 12}\n",
            "{1, 2, 3, 4, 5, 12}\n",
            "False {1, 2, 3, 4, 5, 12} {3, 4, 5}\n"
          ]
        }
      ]
    },
    {
      "cell_type": "markdown",
      "source": [
        "## Словари (dict)"
      ],
      "metadata": {
        "id": "PT_C2mlovK-m"
      }
    },
    {
      "cell_type": "code",
      "source": [
        "# словарь = {ключ1: значенние1, ключ2: значенние2, ...}\n",
        "d1 = {1: 'abc', 52: 'абв', 300: ''}\n",
        "print(d1.get(1, 0)) # пример разреженного массива\n",
        "d2 = {'ID': 123, 'name':'Вася', 'marks': [5,4,5]} # ключ - неизменяемый типб, значения - любые\n",
        "print(d2)\n",
        "print(type(d1))"
      ],
      "metadata": {
        "colab": {
          "base_uri": "https://localhost:8080/"
        },
        "id": "RtBxnlf0tMxG",
        "outputId": "60e39403-2448-43a9-9755-0ed67f9f93d7"
      },
      "execution_count": null,
      "outputs": [
        {
          "output_type": "stream",
          "name": "stdout",
          "text": [
            "abc\n",
            "{'ID': 123, 'name': 'Вася', 'marks': [5, 4, 5]}\n",
            "<class 'dict'>\n"
          ]
        }
      ]
    },
    {
      "cell_type": "code",
      "source": [
        "# Обращение через ключи:\n",
        "print(d2['ID'])\n",
        "# print(d2['Вася']) - обращение по ключам\n",
        "d2['ID'] = 456 # изменение\n",
        "d2['age'] = 19 # добавление\n",
        "del d2['marks'] # удаление\n",
        "print(d2)"
      ],
      "metadata": {
        "colab": {
          "base_uri": "https://localhost:8080/"
        },
        "id": "-Aq_5gSKwHSm",
        "outputId": "4d8e1a47-d653-4c13-e4db-428856565c1f"
      },
      "execution_count": null,
      "outputs": [
        {
          "output_type": "stream",
          "name": "stdout",
          "text": [
            "123\n",
            "{'ID': 456, 'name': 'Вася', 'age': 19}\n"
          ]
        }
      ]
    },
    {
      "cell_type": "code",
      "source": [
        "# in, not in, len, ==, !=\n",
        "print('age' in d2)\n",
        "print('marks' in d2)\n"
      ],
      "metadata": {
        "colab": {
          "base_uri": "https://localhost:8080/"
        },
        "id": "9vT2PJDtxCNW",
        "outputId": "5de6eb47-f484-42ad-80e8-362627a2cf05"
      },
      "execution_count": null,
      "outputs": [
        {
          "output_type": "stream",
          "name": "stdout",
          "text": [
            "True\n",
            "False\n"
          ]
        }
      ]
    },
    {
      "cell_type": "code",
      "source": [
        "# методы clear, copy\n",
        "print(d2.get('ID'))\n",
        "print(d2.get('marks', 0)) # Если ключа нет, то вернет 0\n",
        "d2.pop('age')\n",
        "d2.pop('marks', 0)\n",
        "print(d2)"
      ],
      "metadata": {
        "colab": {
          "base_uri": "https://localhost:8080/"
        },
        "id": "X8tnBZIQxVNd",
        "outputId": "67689332-b87a-4684-877d-555d01aa55ce"
      },
      "execution_count": null,
      "outputs": [
        {
          "output_type": "stream",
          "name": "stdout",
          "text": [
            "456\n",
            "0\n",
            "{'ID': 456, 'name': 'Вася'}\n"
          ]
        }
      ]
    },
    {
      "cell_type": "code",
      "source": [
        "# словарь с циклом for (items, keys, values)\n",
        "for i in d2:\n",
        "  print(i, d2[i])\n",
        "for i in d2.values():\n",
        "  print(i)"
      ],
      "metadata": {
        "colab": {
          "base_uri": "https://localhost:8080/"
        },
        "id": "p4ni6IQGybFd",
        "outputId": "6d8109f5-1402-4ace-a779-93a6b88768a4"
      },
      "execution_count": null,
      "outputs": [
        {
          "output_type": "stream",
          "name": "stdout",
          "text": [
            "ID 456\n",
            "name Вася\n",
            "456\n",
            "Вася\n"
          ]
        }
      ]
    },
    {
      "cell_type": "markdown",
      "source": [
        "# Задание №5\n",
        "Напишите программу, которая запрашивает с ввода восемь чисел, добавляет их в список. <br>На экран выводит их сумму, максимальное и минимальное из них. <br> Для нахождения суммы, максимума и минимума воспользуйтесь встроенными в Python функциями sum(), max() и min()."
      ],
      "metadata": {
        "id": "sMGrqYedvrmW"
      }
    },
    {
      "cell_type": "code",
      "source": [
        "# Код начинается здесь ...\n",
        "# 1. Напишите программу, которая запрашивает с ввода восемь чисел, добавляет их в список.\n",
        "L5 = [] # создаем пустой список (list)\n",
        "for i in range(8):\n",
        "  a = int(input('a = '))\n",
        "  L5.append(a)\n",
        "print(L5)\n",
        "# 2. На экран выводит их сумму, максимальное и минимальное из них.\n",
        "# Для нахождения суммы, максимума и минимума воспользуйтесь встроенными \n",
        "# в Python функциями sum(), max() и min().\n",
        "print('sum = ', sum(L5))\n",
        "print('max = ', max(L5))\n",
        "print('min = ', min(L5))"
      ],
      "metadata": {
        "colab": {
          "base_uri": "https://localhost:8080/"
        },
        "id": "D4HuyPrQuI5Z",
        "outputId": "df2cabb7-438e-48ce-90fd-eea68b8892cc"
      },
      "execution_count": null,
      "outputs": [
        {
          "output_type": "stream",
          "name": "stdout",
          "text": [
            "a = 1\n",
            "a = 2\n",
            "a = 3\n",
            "a = 4\n",
            "a = 5\n",
            "a = 6\n",
            "a = 7\n",
            "a = 8\n",
            "[1, 2, 3, 4, 5, 6, 7, 8]\n",
            "sum =  36\n",
            "max =  8\n",
            "min =  1\n"
          ]
        }
      ]
    },
    {
      "cell_type": "markdown",
      "source": [],
      "metadata": {
        "id": "AspYyJ0XkD5Q"
      }
    },
    {
      "cell_type": "markdown",
      "source": [
        "# Задание №6\n",
        "В заданном списке, состоящем из положительных и отрицательных чисел, посчитайте количество отрицательных элементов. Выведите результат на экран.\n",
        "```\n",
        "a = [-1, 3, 9, -6, 12, 3, 0, -18, 4]\n",
        "```\n",
        "\n",
        "\n",
        "\n"
      ],
      "metadata": {
        "id": "QSLetzxnSG90"
      }
    },
    {
      "cell_type": "code",
      "source": [
        "a = [-1, 3, 9, -6, 12, 3, 0, -18, 4]"
      ],
      "metadata": {
        "id": "qxbuXbhkkGrY"
      },
      "execution_count": null,
      "outputs": []
    },
    {
      "cell_type": "code",
      "source": [
        "# Код начинается здесь ...\n",
        "counter = 0\n",
        "for i in a:\n",
        "  if i < 0 : counter = counter + 1\n",
        "print(counter)"
      ],
      "metadata": {
        "colab": {
          "base_uri": "https://localhost:8080/"
        },
        "id": "pYoBA1X1kFdg",
        "outputId": "19f17eca-502a-44bb-c605-690cfca07774"
      },
      "execution_count": null,
      "outputs": [
        {
          "output_type": "stream",
          "name": "stdout",
          "text": [
            "3\n"
          ]
        }
      ]
    },
    {
      "cell_type": "markdown",
      "source": [
        "# Задание №7\n",
        "Напишите программу, которая генерирует сто случайных целочисленных значений в диапазоне от 1 до 200 и заполняет ими список.\n",
        "Выводит получившийся список на экран по десять элементов в ряд. \n",
        "Далее сортирует список с помощью метода sort() и снова выводит его на экран по десять элементов в строке, также необходимо избавиться от повторяющихся значений. Для вывода списка напишите отдельную функцию, в качестве аргумента она должна принимать список.\n",
        "\n",
        "\n",
        "\n"
      ],
      "metadata": {
        "id": "5RFtxOHlTfmr"
      }
    },
    {
      "cell_type": "code",
      "source": [
        "# Код начинается здесь ...\n",
        "# 2.  Выводит получившийся список на экран по десять элементов в ряд.\n",
        "# Для вывода списка напишите отдельную функцию, в качестве аргумента она должна принимать список.\n",
        "def print_list(L):\n",
        "  for i in range(len(L)):\n",
        "    print(f'{L[i]:3d}', end = ' ')  # доделать!!!\n",
        "    if (i + 1) % 10 == 0: print()\n",
        "  print()\n",
        "\n",
        "\n",
        "def delete1(L):\n",
        "  resL = [L[0]]\n",
        "  for i in range(1, len(L)):\n",
        "     if L[i-1] != L[i]: resL.append(L[i])\n",
        "  return resL\n",
        "\n",
        "# 1. Напишите программу, которая генерирует сто случайных целочисленных \n",
        "# значений в диапазоне от 1 до 200 и заполняет ими список.\n",
        "import random\n",
        "random.seed(27)\n",
        "L7 = [] # создаем пустой список (list)\n",
        "for i in range(100):\n",
        "  L7.append(random.randint(1, 200))\n",
        "\n",
        "print_list(L7)\n",
        "# Способ 2. Убрать повторы с помощью множеств\n",
        "L7 = list(set(L7))\n",
        "# Далее сортирует список с помощью метода sort() \n",
        "# и снова выводит его на экран по десять элементов в строке\n",
        "L7.sort()\n",
        "print('Список отсортирован:')\n",
        "print_list(L7)\n",
        "# Способ 1. Также необходимо избавиться от повторяющихся значений.\n",
        "L7d = delete1(L7) \n",
        "print('Удалили дубликаты:')\n",
        "print_list(L7d)"
      ],
      "metadata": {
        "colab": {
          "base_uri": "https://localhost:8080/"
        },
        "id": "YovBfyDUwej8",
        "outputId": "8fcf38dd-e103-454c-caba-cc656797f93c"
      },
      "execution_count": null,
      "outputs": [
        {
          "output_type": "stream",
          "name": "stdout",
          "text": [
            "167 123 180  71  74  51  19  17  66 139 \n",
            " 86  65  96 104  47  64  62 126  19 187 \n",
            "164 147 168  21 157 109 199 107 190  14 \n",
            "169 113  90   4 165 123  65  36 157  87 \n",
            "157 167  59 181 135  37  26 101 193  78 \n",
            "192  10 199 175 136  22  44 118 182  39 \n",
            " 68 139  14  45 167   4 116 200  39  89 \n",
            "147 148 107  17  79 113 120  91   4  93 \n",
            " 41  68  46 124  92 133  16 133  64  44 \n",
            " 54 196 189 126 143  24  86  87 196  15 \n",
            "\n",
            "Список отсортирован:\n",
            "  4  10  14  15  16  17  19  21  22  24 \n",
            " 26  36  37  39  41  44  45  46  47  51 \n",
            " 54  59  62  64  65  66  68  71  74  78 \n",
            " 79  86  87  89  90  91  92  93  96 101 \n",
            "104 107 109 113 116 118 120 123 124 126 \n",
            "133 135 136 139 143 147 148 157 164 165 \n",
            "167 168 169 175 180 181 182 187 189 190 \n",
            "192 193 196 199 200 \n",
            "Удалили дубликаты:\n",
            "  4  10  14  15  16  17  19  21  22  24 \n",
            " 26  36  37  39  41  44  45  46  47  51 \n",
            " 54  59  62  64  65  66  68  71  74  78 \n",
            " 79  86  87  89  90  91  92  93  96 101 \n",
            "104 107 109 113 116 118 120 123 124 126 \n",
            "133 135 136 139 143 147 148 157 164 165 \n",
            "167 168 169 175 180 181 182 187 189 190 \n",
            "192 193 196 199 200 \n"
          ]
        }
      ]
    }
  ]
}